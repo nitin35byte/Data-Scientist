{
 "cells": [
  {
   "cell_type": "markdown",
   "id": "60504f6e",
   "metadata": {},
   "source": [
    "1.What are the two values of the Boolean data type? How do you write them?"
   ]
  },
  {
   "cell_type": "code",
   "execution_count": null,
   "id": "b66c13fd",
   "metadata": {},
   "outputs": [],
   "source": [
    "Ans:\n",
    "1.True\n",
    "2.False"
   ]
  },
  {
   "cell_type": "code",
   "execution_count": 3,
   "id": "772840fa",
   "metadata": {},
   "outputs": [
    {
     "name": "stdout",
     "output_type": "stream",
     "text": [
      "a:  True\n",
      "b:  False\n"
     ]
    }
   ],
   "source": [
    "a= True\n",
    "b= False\n",
    "print('a: ', a)\n",
    "print('b: ', b)"
   ]
  },
  {
   "cell_type": "markdown",
   "id": "9ec990ea",
   "metadata": {},
   "source": [
    "2. What are the three different types of Boolean operators?"
   ]
  },
  {
   "cell_type": "code",
   "execution_count": null,
   "id": "016a4216",
   "metadata": {},
   "outputs": [],
   "source": [
    "Ans:\n",
    "1.AND\n",
    "2.OR\n",
    "3.NOT"
   ]
  },
  {
   "cell_type": "markdown",
   "id": "b41216c6",
   "metadata": {},
   "source": [
    "3. Make a list of each Boolean operator&#39;s truth tables (i.e. every possible combination of Boolean values for the operator and what it evaluate )."
   ]
  },
  {
   "cell_type": "code",
   "execution_count": 8,
   "id": "b60f3b86",
   "metadata": {},
   "outputs": [
    {
     "data": {
      "text/plain": [
       "[0, 1, 0, 0]"
      ]
     },
     "execution_count": 8,
     "metadata": {},
     "output_type": "execute_result"
    }
   ],
   "source": [
    "#Ans:\n",
    "l_and= [1 and 0,1and 1 ,0 and 1,0 and 0]\n",
    "l_and"
   ]
  },
  {
   "cell_type": "code",
   "execution_count": 14,
   "id": "258d0fbd",
   "metadata": {},
   "outputs": [
    {
     "data": {
      "text/plain": [
       "[1, 1, 1, 0]"
      ]
     },
     "execution_count": 14,
     "metadata": {},
     "output_type": "execute_result"
    }
   ],
   "source": [
    "a_or= [1 or 0,1 or 1 ,0 or 1,0 or 0]\n",
    "a_or"
   ]
  },
  {
   "cell_type": "code",
   "execution_count": 15,
   "id": "73438e66",
   "metadata": {},
   "outputs": [
    {
     "data": {
      "text/plain": [
       "[False, True]"
      ]
     },
     "execution_count": 15,
     "metadata": {},
     "output_type": "execute_result"
    }
   ],
   "source": [
    "list_NOT = [not 1, not 0]\n",
    "list_NOT"
   ]
  },
  {
   "cell_type": "markdown",
   "id": "7c43f411",
   "metadata": {},
   "source": [
    "# 4. What are the values of the following expressions?\n",
    "ANs:\n",
    "(5 > 4) and (3 == 5)                    :False\n",
    "not (5 > 4)                             :False \n",
    "(5 > 4) or (3 == 5)                     :True   \n",
    "not ((5 > 4) or (3 == 5))               :False \n",
    "(True and True) and (True == False)     :False \n",
    "(not False) or (not True)               :True"
   ]
  },
  {
   "cell_type": "code",
   "execution_count": 18,
   "id": "8cf75be4",
   "metadata": {},
   "outputs": [
    {
     "name": "stdout",
     "output_type": "stream",
     "text": [
      "False False True False False True\n"
     ]
    }
   ],
   "source": [
    "print((5 > 4) and (3 == 5),\n",
    "      not (5 > 4),\n",
    "      (5 > 4) or (3 == 5),\n",
    "      not ((5 > 4) or (3 == 5)),\n",
    "      (True and True) and (True == False),\n",
    "      (not False) or (not True)\n",
    "     )"
   ]
  },
  {
   "cell_type": "markdown",
   "id": "f6719a48",
   "metadata": {},
   "source": [
    "# 5. What are the six comparison operators?\n",
    "ans:\n",
    "a. == : is equal to\n",
    "b. != : is not equal to\n",
    "c. > : is greater than\n",
    "d. >= : is greater than or equal to\n",
    "e. < : is less than\n",
    "f. <= : is less than or equal to"
   ]
  },
  {
   "cell_type": "markdown",
   "id": "bbc10c6b",
   "metadata": {},
   "source": [
    "# 6. How do you tell the difference between the equal to and assignment operators?Describe a condition and when you would use one.\n",
    "ans:\n",
    "\n",
    "1. ' = ' : single equals to sign is used for the assignment operation.\n",
    "2. ' == ' : double equals to sign is used for the equal to condition check.\n",
    "3. When we want to assign something (eg. a = 90) we use the assignment operator. whereas when we want to check some condition (eg. 10 == 44) we use the equal to condition check operator."
   ]
  },
  {
   "cell_type": "code",
   "execution_count": null,
   "id": "501deab0",
   "metadata": {},
   "outputs": [],
   "source": [
    "7. Identify the three blocks in this code:\n",
    "spam = 0\n",
    "if spam == 10:\n",
    "print('eggs')\n",
    "if spam > 5:\n",
    "print('bacon')\n",
    "else:\n",
    "print('ham')\n",
    "print('spam')\n",
    "print('spam')"
   ]
  },
  {
   "cell_type": "code",
   "execution_count": 21,
   "id": "e8f95466",
   "metadata": {},
   "outputs": [
    {
     "name": "stdout",
     "output_type": "stream",
     "text": [
      "ham\n",
      "spam\n",
      "spam\n"
     ]
    }
   ],
   "source": [
    "#Ans:\n",
    "spam = 0\n",
    "if spam == 10:             #Block1\n",
    "    print('eggs')\n",
    "if spam > 5:               #Block1\n",
    "    print('bacon')\n",
    "else:                      #Block1\n",
    "    print('ham')\n",
    "print('spam')\n",
    "print('spam')"
   ]
  },
  {
   "cell_type": "markdown",
   "id": "78f10efb",
   "metadata": {},
   "source": [
    " 8. Write code that prints Hello if 1 is stored in spam, prints Howdy if 2 is stored in spam, and prints Greetings! if anything else is stored in spam.\n",
    "\n"
   ]
  },
  {
   "cell_type": "code",
   "execution_count": 22,
   "id": "e362a58f",
   "metadata": {},
   "outputs": [
    {
     "name": "stdout",
     "output_type": "stream",
     "text": [
      "Hello\n"
     ]
    }
   ],
   "source": [
    "spam = 1\n",
    "\n",
    "if spam == 1:\n",
    "    print('Hello')\n",
    "elif spam == 2:\n",
    "    print('Howdy')\n",
    "else:\n",
    "    print('Greetings!')"
   ]
  },
  {
   "cell_type": "markdown",
   "id": "710f9f29",
   "metadata": {},
   "source": [
    " # 9.If your programme is stuck in an endless loop, what keys you’ll press?\n",
    "ans:\n",
    "\n",
    "1. Press Ctrl + C on the command line.\n",
    "2. Restart the kernal"
   ]
  },
  {
   "cell_type": "markdown",
   "id": "7dc36e72",
   "metadata": {},
   "source": [
    "# 10. How can you tell the difference between break and continue?\n",
    "ans:\n",
    "1. Break: It is used to break the loop and exit from the loop\n",
    "2. continue: The continue statement is used to end the current iteration in a for loop (or a while loop), and continues to the next iteration."
   ]
  },
  {
   "cell_type": "markdown",
   "id": "71b59cad",
   "metadata": {},
   "source": [
    "11. In a for loop, what is the difference between range(10), range(0, 10), and range(0, 10, 1)?\n",
    "Ans:"
   ]
  },
  {
   "cell_type": "code",
   "execution_count": 24,
   "id": "dbbcf773",
   "metadata": {
    "scrolled": true
   },
   "outputs": [
    {
     "name": "stdout",
     "output_type": "stream",
     "text": [
      "0 1 2 3 4 5 6 7 8 9 "
     ]
    }
   ],
   "source": [
    "for i in range(10):\n",
    "    print(i, end = ' ')"
   ]
  },
  {
   "cell_type": "code",
   "execution_count": 25,
   "id": "0f515aaa",
   "metadata": {},
   "outputs": [
    {
     "name": "stdout",
     "output_type": "stream",
     "text": [
      "0 1 2 3 4 5 6 7 8 9 "
     ]
    }
   ],
   "source": [
    "for i in range(0,10):\n",
    "    print(i, end = ' ')"
   ]
  },
  {
   "cell_type": "code",
   "execution_count": 26,
   "id": "73e41a93",
   "metadata": {},
   "outputs": [
    {
     "name": "stdout",
     "output_type": "stream",
     "text": [
      "0 1 2 3 4 5 6 7 8 9 "
     ]
    }
   ],
   "source": [
    "for i in range(0,10,1):\n",
    "    print(i, end = ' ')"
   ]
  },
  {
   "cell_type": "markdown",
   "id": "62e07b54",
   "metadata": {},
   "source": [
    "# 12. Write a short program that prints the numbers 1 to 10 using a for loop. Then write an equivalent program that prints the numbers 1 to 10 using a while loop."
   ]
  },
  {
   "cell_type": "code",
   "execution_count": 40,
   "id": "9e3990ff",
   "metadata": {},
   "outputs": [
    {
     "name": "stdout",
     "output_type": "stream",
     "text": [
      "0 1 2 3 4 5 6 7 8 9 10 "
     ]
    }
   ],
   "source": [
    "# For Loop\n",
    "\n",
    "for i in range(11):\n",
    "    print(i, end = ' ')"
   ]
  },
  {
   "cell_type": "code",
   "execution_count": 38,
   "id": "866d1557",
   "metadata": {},
   "outputs": [
    {
     "name": "stdout",
     "output_type": "stream",
     "text": [
      "1 2 3 4 5 6 7 8 9 10 "
     ]
    }
   ],
   "source": [
    "#while loop\n",
    "i = 1\n",
    "while i < 11:\n",
    "    print(i ,end=' ')\n",
    "    i+=1"
   ]
  },
  {
   "cell_type": "code",
   "execution_count": null,
   "id": "8711e1ba",
   "metadata": {},
   "outputs": [],
   "source": [
    "13. If you had a function named bacon() inside a module named spam, how would you call it after importing spam?\n",
    "ans:\n",
    "import spam\n",
    "spam.bacon()"
   ]
  }
 ],
 "metadata": {
  "kernelspec": {
   "display_name": "Python 3",
   "language": "python",
   "name": "python3"
  },
  "language_info": {
   "codemirror_mode": {
    "name": "ipython",
    "version": 3
   },
   "file_extension": ".py",
   "mimetype": "text/x-python",
   "name": "python",
   "nbconvert_exporter": "python",
   "pygments_lexer": "ipython3",
   "version": "3.8.8"
  }
 },
 "nbformat": 4,
 "nbformat_minor": 5
}
